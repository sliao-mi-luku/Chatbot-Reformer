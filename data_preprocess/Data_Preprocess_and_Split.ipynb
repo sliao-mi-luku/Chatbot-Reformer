{
  "nbformat": 4,
  "nbformat_minor": 0,
  "metadata": {
    "colab": {
      "name": "Data_Preprocess_and_Split.ipynb",
      "provenance": [],
      "collapsed_sections": []
    },
    "kernelspec": {
      "name": "python3",
      "display_name": "Python 3"
    },
    "language_info": {
      "name": "python"
    }
  },
  "cells": [
    {
      "cell_type": "markdown",
      "metadata": {
        "id": "xuD9b487C1SZ"
      },
      "source": [
        "# Chatbot: Data Preprocessing (Pytorch)\n",
        "\n",
        "This notebook preprocess the [MultiWOZ datasets](https://github.com/budzianowski/multiwoz) for later used in training the chatbot in Pytorch.\n",
        "\n",
        "---\n",
        "Last updated: 11/04/2021\n",
        "\n",
        "\n",
        "\n",
        "## Import libraries"
      ]
    },
    {
      "cell_type": "code",
      "metadata": {
        "id": "G7npTdU0Crul"
      },
      "source": [
        "import json\n",
        "import random\n",
        "\n",
        "from termcolor import colored\n",
        "\n",
        "import pandas as pd"
      ],
      "execution_count": 1,
      "outputs": []
    },
    {
      "cell_type": "markdown",
      "metadata": {
        "id": "TikZVAzXDSd7"
      },
      "source": [
        "## The Datasets - MultiWOZ (ver 2.1)\n",
        "\n",
        "The Multi-Domain Wizard-of-Oz datasets can be downloaded from the following website: https://github.com/budzianowski/multiwoz\n",
        "\n",
        "After downloading, I uploaded the file `data.json` (263 MB) to my Google Cloud"
      ]
    },
    {
      "cell_type": "code",
      "metadata": {
        "colab": {
          "base_uri": "https://localhost:8080/"
        },
        "id": "KhLkRV4ADS09",
        "outputId": "51d92844-29fb-41db-e787-ff74936d680c"
      },
      "source": [
        "## Load data from the Cloud\n",
        "with open('drive/MyDrive/chatbot/data/data.json') as file:\n",
        "    multiwoz_dataset_json = json.load(file)\n",
        "\n",
        "print(\"Number of dialogues: {}\\n\".format(len(multiwoz_dataset_json)))\n",
        "print(list(multiwoz_dataset_json.keys())[:10])"
      ],
      "execution_count": 2,
      "outputs": [
        {
          "output_type": "stream",
          "name": "stdout",
          "text": [
            "Number of dialogues: 10438\n",
            "\n",
            "['SNG01856.json', 'SNG0129.json', 'PMUL1635.json', 'MUL2168.json', 'SNG0073.json', 'SNG01445.json', 'MUL2105.json', 'PMUL1690.json', 'MUL2395.json', 'SNG0190.json']\n"
          ]
        }
      ]
    },
    {
      "cell_type": "code",
      "metadata": {
        "colab": {
          "base_uri": "https://localhost:8080/"
        },
        "id": "itYufsQaDfvC",
        "outputId": "c522668d-8a13-47b3-9ec1-c24b981a8e65"
      },
      "source": [
        "# print an example dialogue\n",
        "example_dialogue = multiwoz_dataset_json['SNG01856.json']['log']\n",
        "for i in range(len(example_dialogue)):\n",
        "    if i % 2 == 0:\n",
        "        print(colored(example_dialogue[i]['text'], 'blue'))\n",
        "    else:\n",
        "        print(colored(example_dialogue[i]['text'], 'red'))"
      ],
      "execution_count": 3,
      "outputs": [
        {
          "output_type": "stream",
          "name": "stdout",
          "text": [
            "\u001b[34mam looking for a place to to stay that has cheap price range it should be in a type of hotel\u001b[0m\n",
            "\u001b[31mOkay, do you have a specific area you want to stay in?\u001b[0m\n",
            "\u001b[34mno, i just need to make sure it's cheap. oh, and i need parking\u001b[0m\n",
            "\u001b[31mI found 1 cheap hotel for you that includes parking. Do you like me to book it?\u001b[0m\n",
            "\u001b[34mYes, please. 6 people 3 nights starting on tuesday.\u001b[0m\n",
            "\u001b[31mI am sorry but I wasn't able to book that for you for Tuesday. Is there another day you would like to stay or perhaps a shorter stay?\u001b[0m\n",
            "\u001b[34mhow about only 2 nights.\u001b[0m\n",
            "\u001b[31mBooking was successful.\n",
            "Reference number is : 7GAWK763. Anything else I can do for you?\u001b[0m\n",
            "\u001b[34mNo, that will be all. Good bye.\u001b[0m\n",
            "\u001b[31mThank you for using our services.\u001b[0m\n"
          ]
        }
      ]
    },
    {
      "cell_type": "markdown",
      "metadata": {
        "id": "GY1rFhouR9DR"
      },
      "source": [
        "## Remove the invalid dialogue `SNG01862.json`\n",
        "\n",
        "Based on the [notes of MultiWOZ 2.2](https://github.com/budzianowski/multiwoz/tree/master/data/MultiWOZ_2.2), the authors discovered that `SNG01862.json` is an invalid dialogue and removed it. We therefore removed this dialogue from the datasets as well.\n",
        "\n",
        "After removing this dialogue, the dataset contains 10,437 dialogues"
      ]
    },
    {
      "cell_type": "code",
      "metadata": {
        "colab": {
          "base_uri": "https://localhost:8080/"
        },
        "id": "ZDIZNJPeR1vW",
        "outputId": "315b211f-e75d-49f5-a484-8b2a000cb32d"
      },
      "source": [
        "# print the invalid dialogue\n",
        "print(\"[Invaid dialogue - SNG01862.json]\\n\")\n",
        "example_dialogue = multiwoz_dataset_json['SNG01862.json']['log']\n",
        "for i in range(len(example_dialogue)):\n",
        "    if i % 2 == 0:\n",
        "        print(colored(example_dialogue[i]['text'], 'blue'))\n",
        "    else:\n",
        "        print(colored(example_dialogue[i]['text'], 'red'))"
      ],
      "execution_count": 8,
      "outputs": [
        {
          "output_type": "stream",
          "name": "stdout",
          "text": [
            "[Invaid dialogue - SNG01862.json]\n",
            "\n",
            "\u001b[34mI want to take a taxi from arbury lodge guest house to the varsity restaurant.\u001b[0m\n",
            "\u001b[31mI need a taxi to pick me up at 01:00 at the arbury lodge guesthouse and have me at the varsity restaurant at 01:30\u001b[0m\n",
            "\u001b[34mMy taxi should arrive by 13:30\u001b[0m\n",
            "\u001b[31mPlease modifiy the following answers based on the latest customer response:\n",
            "\n",
            "What does the user want?\n",
            "Where is the departure site ?\t\n",
            "arbury lodge guesthouse\n",
            "Where is the destination ?\t\n",
            "the varsity restaurant\n",
            "When does the user want to leave ?\t\n",
            "01:00\n",
            "When does the user want to arrive by ?\t\n",
            "01:30\n",
            "Booking completed!\n",
            "Booked car type\t:\tblack ford\n",
            "Contact number\t:\t07792065670\n",
            "\u001b[0m\n"
          ]
        }
      ]
    },
    {
      "cell_type": "markdown",
      "metadata": {
        "id": "NDZr6SDTDsWI"
      },
      "source": [
        "## Preprocessing (1): add Person 1 & Person 2\n",
        "\n",
        "For each sentence, we add `Person 1:` or `Person 2:` at the beginning."
      ]
    },
    {
      "cell_type": "code",
      "metadata": {
        "colab": {
          "base_uri": "https://localhost:8080/"
        },
        "id": "QJG2zN-5DlHO",
        "outputId": "bab6ebd4-5560-4ea7-f106-c2dfe4c2e929"
      },
      "source": [
        "## Add \"Person 1\" and \"Person 2\" into the dialogue\n",
        "\n",
        "dialogue_sentences_list = []\n",
        "\n",
        "for json_index in multiwoz_dataset_json.keys():\n",
        "\n",
        "    # skip the invalid dialogue\n",
        "    if json_index == \"SNG01862.json\":\n",
        "        continue\n",
        "    \n",
        "    dialogue = multiwoz_dataset_json[json_index]['log']\n",
        "    dialogue_sentences_str = \"\"\n",
        "\n",
        "    for i in range(len(dialogue)):\n",
        "        if i % 2 == 0: # Person 1\n",
        "            dialogue_sentences_str += \" Person 1: \" + dialogue[i]['text']\n",
        "        else: # Person 2\n",
        "            dialogue_sentences_str += \" Person 2: \" + dialogue[i]['text']\n",
        "    \n",
        "    dialogue_sentences_list.append(dialogue_sentences_str)\n",
        "\n",
        "print(\"Number of dialogues: {}\".format(len(dialogue_sentences_list)))\n",
        "print(dialogue_sentences_list[0])"
      ],
      "execution_count": 9,
      "outputs": [
        {
          "output_type": "stream",
          "name": "stdout",
          "text": [
            "Number of dialogues: 10437\n",
            " Person 1: am looking for a place to to stay that has cheap price range it should be in a type of hotel Person 2: Okay, do you have a specific area you want to stay in? Person 1: no, i just need to make sure it's cheap. oh, and i need parking Person 2: I found 1 cheap hotel for you that includes parking. Do you like me to book it? Person 1: Yes, please. 6 people 3 nights starting on tuesday. Person 2: I am sorry but I wasn't able to book that for you for Tuesday. Is there another day you would like to stay or perhaps a shorter stay? Person 1: how about only 2 nights. Person 2: Booking was successful.\n",
            "Reference number is : 7GAWK763. Anything else I can do for you? Person 1: No, that will be all. Good bye. Person 2: Thank you for using our services.\n"
          ]
        }
      ]
    },
    {
      "cell_type": "markdown",
      "metadata": {
        "id": "zw9vsoTqD5s4"
      },
      "source": [
        "## Preprocessing (2): shuffling"
      ]
    },
    {
      "cell_type": "code",
      "metadata": {
        "id": "T4yDaX77D2lQ"
      },
      "source": [
        "## Shuffle\n",
        "random.seed(1)\n",
        "random.shuffle(dialogue_sentences_list)"
      ],
      "execution_count": 10,
      "outputs": []
    },
    {
      "cell_type": "markdown",
      "metadata": {
        "id": "OGKoXvV0EN5u"
      },
      "source": [
        "## Preprocessing (3): remove spaces at the beginninng/end of the dialogue"
      ]
    },
    {
      "cell_type": "code",
      "metadata": {
        "colab": {
          "base_uri": "https://localhost:8080/"
        },
        "id": "-pfgypsjEDsN",
        "outputId": "f3441ce6-c891-49b7-d2ed-e821a7bbf8a1"
      },
      "source": [
        "for i in range(len(dialogue_sentences_list)):\n",
        "    dialogue_sentences_list[i] = dialogue_sentences_list[i].strip()\n",
        "\n",
        "print(dialogue_sentences_list[0])"
      ],
      "execution_count": 11,
      "outputs": [
        {
          "output_type": "stream",
          "name": "stdout",
          "text": [
            "Person 1: Hello, I'm looking for a hotel that is cheap. It doesn't need to have free parking.  Person 2: I have found 10 hotels that match the criteria you listed. Is there any other criteria you have so we can narrow down your choices some more? Person 1: Yes, the hotel need to have free wifi. Person 2: All 10 of the places to stay have free wifi. Do you have a preference of a hotel or guest house? Or possibly a price or a number of stars? Person 1: No, I just need one of them that is cheap with wifi. Person 2: How about the Alexander bed and breakfast? Person 1: Yea that sounds good. Can I book for 5 people and 4 nights starting Friday Person 2: I'm sorry, that booking wasn't successful. Perhaps try another day or maybe shorten your stay? Person 1: Can we try for 2 nights? Person 2: Yes, that worked. I've got you booked with reference number GR86A29T. Is there anything else I can help you with? Person 1: I am looking for a place to go in the city centre. Person 2: we've got plenty  of attractions in the centre of town, can you narrow down your interests please?\n"
          ]
        }
      ]
    },
    {
      "cell_type": "markdown",
      "metadata": {
        "id": "zz4_ruDjEjS_"
      },
      "source": [
        "## Split into training/validation/test datasets\n",
        "\n",
        "We split all 10,437 dialogues into 9,000 training dataset, 500 validation dataset, and 937 test dataset."
      ]
    },
    {
      "cell_type": "code",
      "metadata": {
        "colab": {
          "base_uri": "https://localhost:8080/"
        },
        "id": "dmGL76CjEgIi",
        "outputId": "dcbe2057-2f78-47f7-a25c-800b7333f848"
      },
      "source": [
        "data_train = dialogue_sentences_list[:9000]\n",
        "data_valid = dialogue_sentences_list[9000:9500]\n",
        "data_test = dialogue_sentences_list[9500:]\n",
        "\n",
        "print(\"data_train: {}\".format(len(data_train)))\n",
        "print(\"data_valid: {}\".format(len(data_valid)))\n",
        "print(\"data_test: {}\".format(len(data_test)))"
      ],
      "execution_count": 12,
      "outputs": [
        {
          "output_type": "stream",
          "name": "stdout",
          "text": [
            "data_train: 9000\n",
            "data_valid: 500\n",
            "data_test: 937\n"
          ]
        }
      ]
    },
    {
      "cell_type": "code",
      "metadata": {
        "colab": {
          "base_uri": "https://localhost:8080/"
        },
        "id": "ZXhOHSNJV4nF",
        "outputId": "75fe228b-a715-4079-8c67-1da2ecadd3ef"
      },
      "source": [
        "## Example train data\n",
        "print(data_train[0])"
      ],
      "execution_count": 13,
      "outputs": [
        {
          "output_type": "stream",
          "name": "stdout",
          "text": [
            "Person 1: Hello, I'm looking for a hotel that is cheap. It doesn't need to have free parking.  Person 2: I have found 10 hotels that match the criteria you listed. Is there any other criteria you have so we can narrow down your choices some more? Person 1: Yes, the hotel need to have free wifi. Person 2: All 10 of the places to stay have free wifi. Do you have a preference of a hotel or guest house? Or possibly a price or a number of stars? Person 1: No, I just need one of them that is cheap with wifi. Person 2: How about the Alexander bed and breakfast? Person 1: Yea that sounds good. Can I book for 5 people and 4 nights starting Friday Person 2: I'm sorry, that booking wasn't successful. Perhaps try another day or maybe shorten your stay? Person 1: Can we try for 2 nights? Person 2: Yes, that worked. I've got you booked with reference number GR86A29T. Is there anything else I can help you with? Person 1: I am looking for a place to go in the city centre. Person 2: we've got plenty  of attractions in the centre of town, can you narrow down your interests please?\n"
          ]
        }
      ]
    },
    {
      "cell_type": "code",
      "metadata": {
        "colab": {
          "base_uri": "https://localhost:8080/"
        },
        "id": "Dck_vmQPV-aW",
        "outputId": "f9730372-2b1b-469d-9504-1d7d690fa15e"
      },
      "source": [
        "## Example validation data\n",
        "print(data_valid[0])"
      ],
      "execution_count": 14,
      "outputs": [
        {
          "output_type": "stream",
          "name": "stdout",
          "text": [
            "Person 1: I'm stuck up here in Kings Lynn and really need to get into Cambridge. Can you look up a train for me please? Person 2: I can absolutely help you, but let's get some more information so we can book your ticket. What day and time would you like to leave?  Person 1: I would like to leave on Saturday after 17:00 Person 2: I have 7 different trains. The first one after 17:00 is train TR1499. It leaves at 17:11 and arrives at 17:58. Would that work for you?  Person 1: That works for me. What is the price for that? Person 2: 7.84 pounds for each ticket. Would you like me to book the train? Person 1: No, I'm not ready to book yet.  Thanks though.  Can you recommend a latin American restaurant? Person 2: I'm sorry there are no latin american restaurant Person 1: Are there any in the centre in the cheap price range? Person 2: I have fifteen places to dine in the centre, in a cheap range. What type of food would you like? Person 1: What about one that serves Asian oriental food? Person 2: Dojo noodle bar and J restaurant both are available, which would you prefer? Person 1: Dojo noodle bar, can you book me a table for 7 at 20:30 on Saturday? And I will need the reference number as well please. Person 2: Good news, your booking was succesful.  Your reference number is K7LWVQ5A. Can I do anything else for you? Person 1: Yes can you please book the train for me as well? Person 2:  Did you want the TR1499 booked that leaves on saturday at 17:11 and if so, for how many people? Person 1: Just the one ticket please. Person 2: Your seat is booked on TR1499 leaving Kings Lynn on Saturday at 18:11 for Cambridge, reference number is 0NGRLOZV. Is there anything more I can help with today? Person 1: That is everything I need, thank you. Person 2: Perfect. Enjoy your trip! Person 1: Thank you, that will be all!  Person 2: No problem, enjoy the rest of your day.\n"
          ]
        }
      ]
    },
    {
      "cell_type": "code",
      "metadata": {
        "colab": {
          "base_uri": "https://localhost:8080/"
        },
        "id": "9htjgDBdWBJe",
        "outputId": "42ca720f-edd7-4ebb-b858-ecc6d943ff02"
      },
      "source": [
        "## Example test data\n",
        "print(data_test[0])"
      ],
      "execution_count": 15,
      "outputs": [
        {
          "output_type": "stream",
          "name": "stdout",
          "text": [
            "Person 1: I need to find a spot on a train on Wednesday, can you help me find one? Person 2: Yes I can. Where are you going and what time would like to arrive or depart? Person 1: I'm leaving from London Kings Cross and going to Cambridge. I'd like to leave after 14:30 on Wednesday.  Person 2: I have 5 options available for wednesday.  You can leave at 15:17, 17:17. 19:17, 21:17, or 23:17.  What time would you like to leave? Person 1: I'll take the first one at 15:17. When does it arrive? Person 2: It will arrive at 16:08 Person 1: ok i am also looking for a place to eat in the expensive price range   and should be located in the west  Person 2: There are nine restaurants available. Is there a specific food type you're looking for?  Person 1: No, nothing in particular. Just anything you would recommend. Person 2: I recommend the graffiti located at Hotel Felix Whitehouse Lane Huntington Road.  Person 1: Can you tell me the food type as well as the phone number and address? Person 2: Yes, it's British food and the phone number is 01223277977, with the address of Hotel Felix Whitehouse Lane Huntingdon Road. Person 1: Thank you very much, that will be all. Person 2: Thank you for using Cambridge TownInfo centre.  Please remember us for your future travel needs.\n"
          ]
        }
      ]
    },
    {
      "cell_type": "markdown",
      "metadata": {
        "id": "15uWppk8XUGs"
      },
      "source": [
        "## Convert to DataFrame"
      ]
    },
    {
      "cell_type": "code",
      "metadata": {
        "colab": {
          "base_uri": "https://localhost:8080/"
        },
        "id": "aLpdzXTzWPOx",
        "outputId": "16967db8-c00a-4252-b72f-3b859cc2b8fd"
      },
      "source": [
        "train_df = pd.DataFrame(data={'dialogues': data_train})\n",
        "valid_df = pd.DataFrame(data={'dialogues': data_valid})\n",
        "test_df = pd.DataFrame(data={'dialogues': data_test})\n",
        "\n",
        "print(train_df.head())\n",
        "print(valid_df.head())\n",
        "print(test_df.head())"
      ],
      "execution_count": 16,
      "outputs": [
        {
          "output_type": "stream",
          "name": "stdout",
          "text": [
            "                                           dialogues\n",
            "0  Person 1: Hello, I'm looking for a hotel that ...\n",
            "1  Person 1: Hello, Im looking to book a train fr...\n",
            "2  Person 1: I'm looking for a restaurant in the ...\n",
            "3  Person 1: Hi, I would like a restaurant inthe ...\n",
            "4  Person 1: What is there to do in the centre of...\n",
            "                                           dialogues\n",
            "0  Person 1: I'm stuck up here in Kings Lynn and ...\n",
            "1  Person 1: I am looking for city centre north b...\n",
            "2  Person 1: I am looking for a place to go in th...\n",
            "3  Person 1: I need to find a place to stay in th...\n",
            "4  Person 1: I need help with a car accident disp...\n",
            "                                           dialogues\n",
            "0  Person 1: I need to find a spot on a train on ...\n",
            "1  Person 1: Can you please tell me how to get to...\n",
            "2  Person 1: I was looking for a hotel called wor...\n",
            "3  Person 1: I would like to stay at a guesthouse...\n",
            "4  Person 1: I would like a Hungarian restaurant ...\n"
          ]
        }
      ]
    },
    {
      "cell_type": "markdown",
      "metadata": {
        "id": "eUOOS59xWGC3"
      },
      "source": [
        "## Save to Workspace"
      ]
    },
    {
      "cell_type": "code",
      "metadata": {
        "id": "z7YXzZiLXXKb"
      },
      "source": [
        "train_df.to_csv('multiwoz_train.csv', index=False)\n",
        "valid_df.to_csv('multiwoz_valid.csv', index=False)\n",
        "test_df.to_csv('multiwoz_test.csv', index=False)"
      ],
      "execution_count": 17,
      "outputs": []
    },
    {
      "cell_type": "markdown",
      "metadata": {
        "id": "gcMqrJNeXqCN"
      },
      "source": [
        "## (Optional) Sanity Check"
      ]
    },
    {
      "cell_type": "code",
      "metadata": {
        "colab": {
          "base_uri": "https://localhost:8080/"
        },
        "id": "udINgBiYXv_m",
        "outputId": "f42cc66f-0f95-41e6-cd80-aa5cea6f9ab3"
      },
      "source": [
        "tmp_train = pd.read_csv('multiwoz_train.csv')\n",
        "tmp_valid = pd.read_csv('multiwoz_valid.csv')\n",
        "tmp_test = pd.read_csv('multiwoz_test.csv')\n",
        "\n",
        "print(\"tmp_train: {}\".format(tmp_train.shape))\n",
        "print(\"tmp_valid: {}\".format(tmp_valid.shape))\n",
        "print(\"tmp_test: {}\".format(tmp_test.shape))"
      ],
      "execution_count": 18,
      "outputs": [
        {
          "output_type": "stream",
          "name": "stdout",
          "text": [
            "tmp_train: (9000, 1)\n",
            "tmp_valid: (500, 1)\n",
            "tmp_test: (937, 1)\n"
          ]
        }
      ]
    },
    {
      "cell_type": "code",
      "metadata": {
        "colab": {
          "base_uri": "https://localhost:8080/",
          "height": 204
        },
        "id": "ieKrFe9IYH-_",
        "outputId": "4fcfb586-2f3d-4c1e-d69a-8c89cefe101a"
      },
      "source": [
        "tmp_train.head()"
      ],
      "execution_count": 19,
      "outputs": [
        {
          "output_type": "execute_result",
          "data": {
            "text/html": [
              "<div>\n",
              "<style scoped>\n",
              "    .dataframe tbody tr th:only-of-type {\n",
              "        vertical-align: middle;\n",
              "    }\n",
              "\n",
              "    .dataframe tbody tr th {\n",
              "        vertical-align: top;\n",
              "    }\n",
              "\n",
              "    .dataframe thead th {\n",
              "        text-align: right;\n",
              "    }\n",
              "</style>\n",
              "<table border=\"1\" class=\"dataframe\">\n",
              "  <thead>\n",
              "    <tr style=\"text-align: right;\">\n",
              "      <th></th>\n",
              "      <th>dialogues</th>\n",
              "    </tr>\n",
              "  </thead>\n",
              "  <tbody>\n",
              "    <tr>\n",
              "      <th>0</th>\n",
              "      <td>Person 1: Hello, I'm looking for a hotel that ...</td>\n",
              "    </tr>\n",
              "    <tr>\n",
              "      <th>1</th>\n",
              "      <td>Person 1: Hello, Im looking to book a train fr...</td>\n",
              "    </tr>\n",
              "    <tr>\n",
              "      <th>2</th>\n",
              "      <td>Person 1: I'm looking for a restaurant in the ...</td>\n",
              "    </tr>\n",
              "    <tr>\n",
              "      <th>3</th>\n",
              "      <td>Person 1: Hi, I would like a restaurant inthe ...</td>\n",
              "    </tr>\n",
              "    <tr>\n",
              "      <th>4</th>\n",
              "      <td>Person 1: What is there to do in the centre of...</td>\n",
              "    </tr>\n",
              "  </tbody>\n",
              "</table>\n",
              "</div>"
            ],
            "text/plain": [
              "                                           dialogues\n",
              "0  Person 1: Hello, I'm looking for a hotel that ...\n",
              "1  Person 1: Hello, Im looking to book a train fr...\n",
              "2  Person 1: I'm looking for a restaurant in the ...\n",
              "3  Person 1: Hi, I would like a restaurant inthe ...\n",
              "4  Person 1: What is there to do in the centre of..."
            ]
          },
          "metadata": {},
          "execution_count": 19
        }
      ]
    },
    {
      "cell_type": "code",
      "metadata": {
        "colab": {
          "base_uri": "https://localhost:8080/",
          "height": 204
        },
        "id": "fHvnwzeHYLbo",
        "outputId": "89e7b767-1875-48fb-fffb-f448dc5f7447"
      },
      "source": [
        "tmp_valid.head()"
      ],
      "execution_count": 20,
      "outputs": [
        {
          "output_type": "execute_result",
          "data": {
            "text/html": [
              "<div>\n",
              "<style scoped>\n",
              "    .dataframe tbody tr th:only-of-type {\n",
              "        vertical-align: middle;\n",
              "    }\n",
              "\n",
              "    .dataframe tbody tr th {\n",
              "        vertical-align: top;\n",
              "    }\n",
              "\n",
              "    .dataframe thead th {\n",
              "        text-align: right;\n",
              "    }\n",
              "</style>\n",
              "<table border=\"1\" class=\"dataframe\">\n",
              "  <thead>\n",
              "    <tr style=\"text-align: right;\">\n",
              "      <th></th>\n",
              "      <th>dialogues</th>\n",
              "    </tr>\n",
              "  </thead>\n",
              "  <tbody>\n",
              "    <tr>\n",
              "      <th>0</th>\n",
              "      <td>Person 1: I'm stuck up here in Kings Lynn and ...</td>\n",
              "    </tr>\n",
              "    <tr>\n",
              "      <th>1</th>\n",
              "      <td>Person 1: I am looking for city centre north b...</td>\n",
              "    </tr>\n",
              "    <tr>\n",
              "      <th>2</th>\n",
              "      <td>Person 1: I am looking for a place to go in th...</td>\n",
              "    </tr>\n",
              "    <tr>\n",
              "      <th>3</th>\n",
              "      <td>Person 1: I need to find a place to stay in th...</td>\n",
              "    </tr>\n",
              "    <tr>\n",
              "      <th>4</th>\n",
              "      <td>Person 1: I need help with a car accident disp...</td>\n",
              "    </tr>\n",
              "  </tbody>\n",
              "</table>\n",
              "</div>"
            ],
            "text/plain": [
              "                                           dialogues\n",
              "0  Person 1: I'm stuck up here in Kings Lynn and ...\n",
              "1  Person 1: I am looking for city centre north b...\n",
              "2  Person 1: I am looking for a place to go in th...\n",
              "3  Person 1: I need to find a place to stay in th...\n",
              "4  Person 1: I need help with a car accident disp..."
            ]
          },
          "metadata": {},
          "execution_count": 20
        }
      ]
    },
    {
      "cell_type": "code",
      "metadata": {
        "colab": {
          "base_uri": "https://localhost:8080/",
          "height": 204
        },
        "id": "RQdhNWf3YNTP",
        "outputId": "d525f21b-f6f1-4be8-db52-f50022a4a994"
      },
      "source": [
        "tmp_test.head()"
      ],
      "execution_count": 21,
      "outputs": [
        {
          "output_type": "execute_result",
          "data": {
            "text/html": [
              "<div>\n",
              "<style scoped>\n",
              "    .dataframe tbody tr th:only-of-type {\n",
              "        vertical-align: middle;\n",
              "    }\n",
              "\n",
              "    .dataframe tbody tr th {\n",
              "        vertical-align: top;\n",
              "    }\n",
              "\n",
              "    .dataframe thead th {\n",
              "        text-align: right;\n",
              "    }\n",
              "</style>\n",
              "<table border=\"1\" class=\"dataframe\">\n",
              "  <thead>\n",
              "    <tr style=\"text-align: right;\">\n",
              "      <th></th>\n",
              "      <th>dialogues</th>\n",
              "    </tr>\n",
              "  </thead>\n",
              "  <tbody>\n",
              "    <tr>\n",
              "      <th>0</th>\n",
              "      <td>Person 1: I need to find a spot on a train on ...</td>\n",
              "    </tr>\n",
              "    <tr>\n",
              "      <th>1</th>\n",
              "      <td>Person 1: Can you please tell me how to get to...</td>\n",
              "    </tr>\n",
              "    <tr>\n",
              "      <th>2</th>\n",
              "      <td>Person 1: I was looking for a hotel called wor...</td>\n",
              "    </tr>\n",
              "    <tr>\n",
              "      <th>3</th>\n",
              "      <td>Person 1: I would like to stay at a guesthouse...</td>\n",
              "    </tr>\n",
              "    <tr>\n",
              "      <th>4</th>\n",
              "      <td>Person 1: I would like a Hungarian restaurant ...</td>\n",
              "    </tr>\n",
              "  </tbody>\n",
              "</table>\n",
              "</div>"
            ],
            "text/plain": [
              "                                           dialogues\n",
              "0  Person 1: I need to find a spot on a train on ...\n",
              "1  Person 1: Can you please tell me how to get to...\n",
              "2  Person 1: I was looking for a hotel called wor...\n",
              "3  Person 1: I would like to stay at a guesthouse...\n",
              "4  Person 1: I would like a Hungarian restaurant ..."
            ]
          },
          "metadata": {},
          "execution_count": 21
        }
      ]
    },
    {
      "cell_type": "markdown",
      "metadata": {
        "id": "PpkKHNxg4gXh"
      },
      "source": [
        "## References\n",
        "\n",
        "The data preprocessing is learned from the Coursera course **Natural Language Processing with Attention Models**\n"
      ]
    },
    {
      "cell_type": "code",
      "metadata": {
        "id": "cXkQlJxpUwyr"
      },
      "source": [
        ""
      ],
      "execution_count": null,
      "outputs": []
    }
  ]
}